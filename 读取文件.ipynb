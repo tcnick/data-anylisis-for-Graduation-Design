{
 "cells": [
  {
   "cell_type": "code",
   "execution_count": 7,
   "metadata": {},
   "outputs": [
    {
     "name": "stdout",
     "output_type": "stream",
     "text": [
      "玩的加我,什么武器等级,是我的军,商务秋季\n",
      "\n",
      "商务秋季,微妙的及,十几万雄,是设计\n",
      "\n",
      "可千万,我来了可为空,哦我多,上千万及\n",
      "\n",
      "sasa. sdeak. daw.dwd,wd,edwD,W\n",
      "\n"
     ]
    }
   ],
   "source": [
    "with open('d:\\\\我很帅.csv','r') as f:\n",
    "    for i in f:\n",
    "        print(i)\n",
    "        \n"
   ]
  },
  {
   "cell_type": "code",
   "execution_count": 29,
   "metadata": {},
   "outputs": [
    {
     "name": "stdout",
     "output_type": "stream",
     "text": [
      "{'encoding': 'GB2312', 'confidence': 0.99, 'language': 'Chinese'}\n"
     ]
    }
   ],
   "source": [
    "#检查编码\n",
    "import chardet \n",
    "f = open('d:\\\\我很帅.csv','rb')\n",
    "data = f.read()\n",
    "print(chardet.detect(data))"
   ]
  },
  {
   "cell_type": "code",
   "execution_count": 39,
   "metadata": {},
   "outputs": [],
   "source": [
    "with open('d:\\\\as.txt','w') as f:\n",
    "    f.write('sdaddffaas')\n",
    "with open('d:\\\\as.txt','r') as c:\n",
    "    print(f.read())"
   ]
  },
  {
   "cell_type": "code",
   "execution_count": 42,
   "metadata": {},
   "outputs": [
    {
     "name": "stdout",
     "output_type": "stream",
     "text": [
      "b'sdaddffaas'\n"
     ]
    }
   ],
   "source": [
    "#with open('d:\\\\as.txt','wb') as f:\n",
    "#    f.write('sdaddffaas')\n",
    "with open('d:\\\\as.txt','rb') as f:\n",
    "    print(f.read())"
   ]
  },
  {
   "cell_type": "code",
   "execution_count": 31,
   "metadata": {},
   "outputs": [
    {
     "name": "stdout",
     "output_type": "stream",
     "text": [
      "玩的加我,什么武器等级,是我的军,商务秋季\r\n",
      "\n",
      "玩的加我,什么武器等级,是我的军,商务秋季\r\n",
      "\n",
      "玩的加我,什么武器等级,是我的军,商务秋季\r\n",
      "\n",
      "商务秋季,微妙的及,十几万雄,是设计\r\n",
      "\n",
      "商务秋季,微妙的及,十几万雄,是设计\r\n",
      "\n",
      "商务秋季,微妙的及,十几万雄,是设计\r\n",
      "\n",
      "可千万,我来了可为空,哦我多,上千万及\r\n",
      "\n",
      "可千万,我来了可为空,哦我多,上千万及\r\n",
      "\n",
      "可千万,我来了可为空,哦我多,上千万及\r\n",
      "\n",
      "sasa. sdeak. daw.dwd,wd,edwD,W\r\n",
      "\n",
      "sasa. sdeak. daw.dwd,wd,edwD,W\r\n",
      "\n",
      "sasa. sdeak. daw.dwd,wd,edwD,W\r\n",
      "\n"
     ]
    }
   ],
   "source": [
    "with open('d:\\\\我很帅.csv','rb') as f:\n",
    "    for i in f:\n",
    "        print(i.decode('gbk'))\n",
    "        print(i.decode(encoding='gbk'))\n",
    "        print(i.decode('gb2312'))"
   ]
  },
  {
   "cell_type": "code",
   "execution_count": 18,
   "metadata": {},
   "outputs": [],
   "source": [
    "x='杀虫剂'.encode('utf-8')"
   ]
  },
  {
   "cell_type": "code",
   "execution_count": 25,
   "metadata": {},
   "outputs": [
    {
     "data": {
      "text/plain": [
       "b'\\xe6\\x9d\\x80\\xe8\\x99\\xab\\xe5\\x89\\x82'"
      ]
     },
     "execution_count": 25,
     "metadata": {},
     "output_type": "execute_result"
    }
   ],
   "source": [
    "x"
   ]
  },
  {
   "cell_type": "code",
   "execution_count": 2,
   "metadata": {
    "ExecuteTime": {
     "end_time": "2019-06-12T02:10:52.655641Z",
     "start_time": "2019-06-12T02:10:52.104609Z"
    }
   },
   "outputs": [
    {
     "data": {
      "image/png": "[encoded data removed]",
      "text/plain": [
       "<matplotlib.figure.Figure at 0x947a860>"
      ]
     },
     "metadata": {
      "needs_background": "light"
     },
     "output_type": "display_data"
    }
   ],
   "source": [
    "%matplotlib inline\n",
    "import matplotlib.pyplot as plt\n",
    "\n",
    "#设置x轴柱子的个数\n",
    "plt.rcParams['font.sans-serif'] = ['SimHei']  # 用来正常显示中文标签\n",
    "plt.rcParams['axes.unicode_minus'] = False  # 用来正常显示负号\n",
    "\n",
    "import pandas as pd\n",
    "ad=pd.read_excel(u'C:\\\\Users\\\\tcnick\\\\Desktop\\\\毕业设计\\论文最终稿\\\\paral_coef.xlsx')\n",
    "\n",
    "x=np.arange(len(ad.index))\n",
    "#设置y轴的数值，需将numbers列的数据先转化为数列，再转化为矩阵格式\n",
    "y=ad.values\n",
    "xticks1=list(ad[' logcom']) #构造不同课程类目的数列\n",
    "#画出柱状图\n",
    "\n",
    "#plt.bar(x,y,align='center',color = 'c',alpha=0.8)\n",
    "#设置x轴的刻度，将构建的xticks代入，同时由于课程类目文字较多，在一块会比较拥挤和重叠，因此设置字体和对齐方式\n",
    "plt.xticks(x,xticks1,rotation=40)\n",
    "\n",
    "plt.plot(ad[' logcom'][:6],ad[' Coef.'][:6],color='r')\n",
    "plt.vlines('2013second', -0.3, 0.5, colors = \"c\", linestyles = \"dashed\")#要放到中间，不然不得行\n",
    "plt.plot(ad[' logcom'][7:],ad[' Coef.'][7:],color='r')\n",
    "\n",
    "plt.plot(ad[' logcom'][:6],ad[' 95% Conf'][:6],color='b',linestyle='--')\n",
    "plt.plot(ad[' logcom'][7:],ad[' 95% Conf'][7:],color='b',linestyle='--')\n",
    "\n",
    "plt.plot(ad[' logcom'][:6],ad[' Interval'][:6],color='b',linestyle='--')\n",
    "plt.plot(ad[' logcom'][7:],ad[' Interval'][7:],color='b',linestyle='--')\n",
    "\n",
    "plt.hlines(0.0, -0.3, 15, colors = \"c\", linestyles = \"dashed\")\n",
    "\n",
    "plt.xlabel(\"评论时间\")\n",
    "plt.ylabel('交互项系数')\n",
    "\n",
    "\n",
    "d='C:\\\\Users\\\\tcnick\\\\Desktop\\\\paral_coef_logcom'\n",
    "plt.tight_layout()#在保存的时候可以显示完全\n",
    "plt.savefig(\"{}.jpg\".format(d), dpi=500)#先show\n",
    "\n",
    "\n",
    "plt.show()\n",
    "plt.close()"
   ]
  },
  {
   "cell_type": "code",
   "execution_count": 6,
   "metadata": {
    "ExecuteTime": {
     "end_time": "2019-06-12T02:30:36.773368Z",
     "start_time": "2019-06-12T02:30:36.189335Z"
    }
   },
   "outputs": [
    {
     "name": "stderr",
     "output_type": "stream",
     "text": [
      "F:\\Adaconda3\\lib\\site-packages\\pandas\\util\\_decorators.py:118: FutureWarning: The `sheetname` keyword is deprecated, use `sheet_name` instead\n",
      "  return func(*args, **kwargs)\n"
     ]
    },
    {
     "data": {
      "image/png": "[encoded data removed]",
      "text/plain": [
       "<matplotlib.figure.Figure at 0x94f3160>"
      ]
     },
     "metadata": {
      "needs_background": "light"
     },
     "output_type": "display_data"
    }
   ],
   "source": [
    "%matplotlib inline\n",
    "import matplotlib.pyplot as plt\n",
    "fig= plt.figure()\n",
    "#设置x轴柱子的个数\n",
    "plt.rcParams['font.sans-serif'] = ['SimHei']  # 用来正常显示中文标签\n",
    "plt.rcParams['axes.unicode_minus'] = False  # 用来正常显示负号\n",
    "\n",
    "import pandas as pd\n",
    "ad=pd.read_excel(u'C:\\\\Users\\\\tcnick\\\\Desktop\\\\毕业设计\\论文最终稿\\\\paral_coef.xlsx',sheetname='Sheet2')\n",
    "\n",
    "x=np.arange(len(ad.index))\n",
    "#设置y轴的数值，需将numbers列的数据先转化为数列，再转化为矩阵格式\n",
    "y=ad.values\n",
    "xticks1=list(ad['com']) #构造不同课程类目的数列\n",
    "#画出柱状图\n",
    "\n",
    "#plt.bar(x,y,align='center',color = 'c',alpha=0.8)\n",
    "#设置x轴的刻度，将构建的xticks代入，同时由于课程类目文字较多，在一块会比较拥挤和重叠，因此设置字体和对齐方式\n",
    "plt.xticks(x,xticks1,rotation=40)\n",
    "\n",
    "plt.plot(ad['com'][:6],ad[' Coef.'][:6],color='r')\n",
    "plt.vlines('2013second', -4, 10, colors = \"c\", linestyles = \"dashed\")#要放到中间，不然不得行\n",
    "plt.plot(ad['com'][7:],ad[' Coef.'][7:],color='r')\n",
    "\n",
    "plt.plot(ad['com'][:6],ad[' 95% Conf'][:6],color='b',linestyle='--')\n",
    "plt.plot(ad['com'][7:],ad[' 95% Conf'][7:],color='b',linestyle='--')\n",
    "\n",
    "plt.plot(ad['com'][:6],ad[' Interval'][:6],color='b',linestyle='--')\n",
    "plt.plot(ad['com'][7:],ad[' Interval'][7:],color='b',linestyle='--')\n",
    "\n",
    "plt.hlines(0.0, -0.3, 15, colors = \"c\", linestyles = \"dashed\")\n",
    "\n",
    "plt.xlabel(\"评论时间\")\n",
    "plt.ylabel('交互项系数')\n",
    "\n",
    "d='C:\\\\Users\\\\tcnick\\\\Desktop\\\\paral_coef_com'\n",
    "plt.tight_layout()#在保存的时候可以显示完全\n",
    "plt.savefig(\"{}.jpg\".format(d), dpi=500)#先show\n",
    "\n",
    "plt.show()"
   ]
  },
  {
   "cell_type": "code",
   "execution_count": null,
   "metadata": {},
   "outputs": [],
   "source": []
  }
 ],
 "metadata": {
  "kernelspec": {
   "display_name": "Python 3",
   "language": "python",
   "name": "python3"
  },
  "toc": {
   "base_numbering": 1,
   "nav_menu": {},
   "number_sections": true,
   "sideBar": true,
   "skip_h1_title": false,
   "title_cell": "Table of Contents",
   "title_sidebar": "Contents",
   "toc_cell": false,
   "toc_position": {},
   "toc_section_display": true,
   "toc_window_display": false
  },
  "varInspector": {
   "cols": {
    "lenName": 16,
    "lenType": 16,
    "lenVar": 40
   },
   "kernels_config": {
    "python": {
     "delete_cmd_postfix": "",
     "delete_cmd_prefix": "del ",
     "library": "var_list.py",
     "varRefreshCmd": "print(var_dic_list())"
    },
    "r": {
     "delete_cmd_postfix": ") ",
     "delete_cmd_prefix": "rm(",
     "library": "var_list.r",
     "varRefreshCmd": "cat(var_dic_list()) "
    }
   },
   "oldHeight": 122.095238,
   "position": {
    "height": "40px",
    "left": "1030.95px",
    "right": "20px",
    "top": "120px",
    "width": "250px"
   },
   "types_to_exclude": [
    "module",
    "function",
    "builtin_function_or_method",
    "instance",
    "_Feature"
   ],
   "varInspector_section_display": "none",
   "window_display": true
  }
 },
 "nbformat": 4,
 "nbformat_minor": 2
}
