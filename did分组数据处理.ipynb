{
 "cells": [
  {
   "cell_type": "markdown",
   "metadata": {
    "toc": true
   },
   "source": [
    "<h1>Table of Contents<span class=\"tocSkip\"></span></h1>\n",
    "<div class=\"toc\"><ul class=\"toc-item\"></ul></div>"
   ]
  },
  {
   "cell_type": "code",
   "execution_count": 1,
   "metadata": {},
   "outputs": [],
   "source": [
    "import pandas as pd\n",
    "data=pd.read_csv('D:\\\\python-document\\\\final_analysis\\\\final_yearquater200.csv')\n",
    "dataslice=data.query(\"review_time>='2010-06' and review_time<='2016-06'\" )\n",
    "#dataslice.loc[(dataslice.station_time_200==dataslice.review_time),:]['station_time_200']='0.0'\n",
    "#dataslice.to_csv('d:\\\\aaa.csv')\n",
    "\n",
    "\n",
    "qw=dataslice.loc[(dataslice.station_time_200=='2013-06')]\n",
    "a=[i for i in dataslice.index if dataslice.attraction_id[i] in list(qw.attraction_id)]\n",
    "deal=dataslice.loc[a,:]\n",
    "qe=dataslice.loc[dataslice.has_station_200==1.0,:]\n",
    "b=[i for i in dataslice.index if dataslice.attraction_id[i] not in list(qe.attraction_id)]\n",
    "control=dataslice.loc[b,:]\n",
    "\n",
    "deal['treat']=1\n",
    "control['treat']=0\n",
    "control['time']=control.review_time.apply(lambda x:0 if x<='2013-06' else 1)\n",
    "deal['time']=deal.review_time.apply(lambda x:0 if x<='2013-06' else 1)\n",
    "\n",
    "deal.to_csv('D:\\\\python-document\\\\final_analysis\\\\deal_group200f.csv',index=0)\n",
    "control.to_csv('D:\\\\python-document\\\\final_analysis\\\\control_group200f.csv',index=0)\n",
    "\n",
    "data_analysis=pd.concat([deal,control],axis=0)\n",
    "data_analysis.shape#(2627, 82)\n",
    "data_analysis.to_csv('D:\\\\python-document\\\\final_analysis\\\\data_analysis200f.csv',index=0)\n",
    "data_analysis.columns\n",
    "data_analysis1=data_analysis.drop([ 'station_time_600', 'has_station_600', 'station_count_600',\n",
    "       'station_time_800', 'has_station_800', 'station_count_800',\n",
    "       '2018Q3', '2016Q3', '2017Q3', '2017Q2', '2015Q3', '2016Q2', '2018Q2',\n",
    "       '2016Q4', '2017Q4', '2017Q1', '2018Q1', '2016Q1', '2015Q4', '2015Q2',\n",
    "       '2014Q3', '2014Q4', '2014Q2', '2015Q1', '2013Q3', '2013Q4', '2013Q2',\n",
    "       '2012Q3', '2012Q4', '2013Q1', '2012Q2', '2014Q1', '2012Q1', '2018Q4',\n",
    "       '2011Q4', '2011Q3', '2011Q2', '2010Q3', '2010Q4', '2010Q2', '2011Q1',\n",
    "       '2010Q1'],axis=1)\n",
    "data_analysis1.to_csv('D:\\\\python-document\\\\final_analysis\\\\sdata_analysis200f.csv',index=0)"
   ]
  },
  {
   "cell_type": "code",
   "execution_count": null,
   "metadata": {},
   "outputs": [],
   "source": []
  }
 ],
 "metadata": {
  "kernelspec": {
   "display_name": "Python 3",
   "language": "python",
   "name": "python3"
  },
  "language_info": {
   "codemirror_mode": {
    "name": "ipython",
    "version": 3
   },
   "file_extension": ".py",
   "mimetype": "text/x-python",
   "name": "python",
   "nbconvert_exporter": "python",
   "pygments_lexer": "ipython3",
   "version": "3.6.4"
  },
  "toc": {
   "base_numbering": 1,
   "nav_menu": {},
   "number_sections": true,
   "sideBar": true,
   "skip_h1_title": false,
   "title_cell": "Table of Contents",
   "title_sidebar": "Contents",
   "toc_cell": true,
   "toc_position": {},
   "toc_section_display": true,
   "toc_window_display": false
  },
  "varInspector": {
   "cols": {
    "lenName": 16,
    "lenType": 16,
    "lenVar": 40
   },
   "kernels_config": {
    "python": {
     "delete_cmd_postfix": "",
     "delete_cmd_prefix": "del ",
     "library": "var_list.py",
     "varRefreshCmd": "print(var_dic_list())"
    },
    "r": {
     "delete_cmd_postfix": ") ",
     "delete_cmd_prefix": "rm(",
     "library": "var_list.r",
     "varRefreshCmd": "cat(var_dic_list()) "
    }
   },
   "types_to_exclude": [
    "module",
    "function",
    "builtin_function_or_method",
    "instance",
    "_Feature"
   ],
   "window_display": false
  }
 },
 "nbformat": 4,
 "nbformat_minor": 2
}
