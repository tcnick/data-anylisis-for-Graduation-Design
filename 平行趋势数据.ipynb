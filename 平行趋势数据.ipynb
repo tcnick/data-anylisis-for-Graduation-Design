{
 "cells": [
  {
   "cell_type": "markdown",
   "metadata": {},
   "source": [
    "# 以每季度进行处理"
   ]
  },
  {
   "cell_type": "markdown",
   "metadata": {
    "ExecuteTime": {
     "end_time": "2019-04-07T01:58:29.476423Z",
     "start_time": "2019-04-07T01:58:29.460422Z"
    }
   },
   "source": [
    "## 变量添加及处理"
   ]
  },
  {
   "cell_type": "code",
   "execution_count": 133,
   "metadata": {
    "ExecuteTime": {
     "end_time": "2019-04-07T08:32:37.735026Z",
     "start_time": "2019-04-07T08:32:26.364376Z"
    }
   },
   "outputs": [
    {
     "name": "stderr",
     "output_type": "stream",
     "text": [
      "F:\\Adaconda3\\lib\\site-packages\\ipykernel_launcher.py:17: SettingWithCopyWarning: \n",
      "A value is trying to be set on a copy of a slice from a DataFrame.\n",
      "Try using .loc[row_indexer,col_indexer] = value instead\n",
      "\n",
      "See the caveats in the documentation: http://pandas.pydata.org/pandas-docs/stable/indexing.html#indexing-view-versus-copy\n"
     ]
    }
   ],
   "source": [
    "import pandas as pd\n",
    "paral=pd.read_csv('D:\\\\python-document\\\\final_analysis\\\\stata_final\\\\sdata_analysis200f+.csv')\n",
    "paral=paral.join(pd.get_dummies(paral.review_year_quarter,prefix='yq'))\n",
    "paral.drop(['yq_2013Q2'],axis=1,inplace=True)\n",
    "column1=['attraction_id', 'review_time', 'score', \n",
    "       'total_comment_counts', 'treat','review_year_quarter',\n",
    "       'time', 'over_5', 'bike_score', 'yq_2010Q2',\n",
    "       'yq_2010Q3', 'yq_2010Q4', 'yq_2011Q1', 'yq_2011Q2', 'yq_2011Q3',\n",
    "       'yq_2011Q4', 'yq_2012Q1', 'yq_2012Q2', 'yq_2012Q3', 'yq_2012Q4',\n",
    "       'yq_2013Q1', 'yq_2013Q3', 'yq_2013Q4', 'yq_2014Q1',\n",
    "       'yq_2014Q2', 'yq_2014Q3', 'yq_2014Q4', 'yq_2015Q1', 'yq_2015Q2',\n",
    "       'yq_2015Q3', 'yq_2015Q4', 'yq_2016Q1', 'yq_2016Q2']\n",
    "paral_data=paral[column1]\n",
    "def jiaohu():\n",
    "    colum=[i for i in paral_data.columns if i.startswith('yq_')]\n",
    "    for col in colum:\n",
    "        paral_data['treat*'+col]= paral_data.treat* paral_data[col]\n",
    "jiaohu()\n",
    "paral_data.to_csv('D:\\\\python-document\\\\final_analysis\\\\stata_final\\\\paral_anylysis_byquater.csv',index=False)"
   ]
  },
  {
   "cell_type": "markdown",
   "metadata": {},
   "source": [
    "## 辅助说明"
   ]
  },
  {
   "cell_type": "code",
   "execution_count": null,
   "metadata": {},
   "outputs": [],
   "source": [
    "paral.review_time.value_counts().sort_index()"
   ]
  },
  {
   "cell_type": "code",
   "execution_count": 43,
   "metadata": {
    "ExecuteTime": {
     "end_time": "2019-04-07T01:59:09.524714Z",
     "start_time": "2019-04-07T01:59:09.507713Z"
    },
    "scrolled": true
   },
   "outputs": [
    {
     "data": {
      "text/plain": [
       "Index(['attraction_id', 'review_time', 'comment_user_level',\n",
       "       'comment_user_review_counts', 'user_attrction_review_counts',\n",
       "       'user_votes', 'score', 'comment_thanks', 'comment_len',\n",
       "       'total_comment_counts', 'attraction_walk_score',\n",
       "       'attraction_transit_score', 'attraction_bike_score',\n",
       "       'attraction_rating', 'attraction_total_reviews', 'attraction_raking',\n",
       "       'shortest_dis_to_station', 'review_quarter', 'review_year_quarter',\n",
       "       'station_time_400', 'has_station_400', 'station_count_400',\n",
       "       'total_crime_c', 'BATTERY_c', 'OTHER OFFENSE_c', 'ROBBERY_c',\n",
       "       'NARCOTICS_c', 'THEFT_c', 'CRIMINAL DAMAGE_c', 'ASSAULT_c',\n",
       "       'BURGLARY_c', 'DECEPTIVE PRACTICE_c', 'MOTOR VEHICLE THEFT_c',\n",
       "       'bike_user_is_sub_prob', 'total_trips_count', 'total_tripduration',\n",
       "       'station_time_200', 'has_station_200', 'station_count_200', 'treat',\n",
       "       'time', 'is_CBD', 'Q3', 'Q2', 'Q4', 'Q1', 'over_5', 'bike_score',\n",
       "       'to_is_sub', 'trip_counts', 'tripduration', 'trip_per', 'yq_2010Q2',\n",
       "       'yq_2010Q3', 'yq_2010Q4', 'yq_2011Q1', 'yq_2011Q2', 'yq_2011Q3',\n",
       "       'yq_2011Q4', 'yq_2012Q1', 'yq_2012Q2', 'yq_2012Q3', 'yq_2012Q4',\n",
       "       'yq_2013Q1', 'yq_2013Q2', 'yq_2013Q3', 'yq_2013Q4', 'yq_2014Q1',\n",
       "       'yq_2014Q2', 'yq_2014Q3', 'yq_2014Q4', 'yq_2015Q1', 'yq_2015Q2',\n",
       "       'yq_2015Q3', 'yq_2015Q4', 'yq_2016Q1', 'yq_2016Q2'],\n",
       "      dtype='object')"
      ]
     },
     "execution_count": 43,
     "metadata": {},
     "output_type": "execute_result"
    }
   ],
   "source": [
    "paral.columns"
   ]
  },
  {
   "cell_type": "code",
   "execution_count": 59,
   "metadata": {
    "ExecuteTime": {
     "end_time": "2019-04-07T02:13:47.902954Z",
     "start_time": "2019-04-07T02:13:47.878953Z"
    }
   },
   "outputs": [
    {
     "data": {
      "text/plain": [
       "Index(['attraction_id', 'review_time', 'score', 'total_comment_counts',\n",
       "       'treat', 'time', 'over_5', 'bike_score', 'yq_2010Q2', 'yq_2010Q3',\n",
       "       'yq_2010Q4', 'yq_2011Q1', 'yq_2011Q2', 'yq_2011Q3', 'yq_2011Q4',\n",
       "       'yq_2012Q1', 'yq_2012Q2', 'yq_2012Q3', 'yq_2012Q4', 'yq_2013Q1',\n",
       "       'yq_2013Q3', 'yq_2013Q4', 'yq_2014Q1', 'yq_2014Q2', 'yq_2014Q3',\n",
       "       'yq_2014Q4', 'yq_2015Q1', 'yq_2015Q2', 'yq_2015Q3', 'yq_2015Q4',\n",
       "       'yq_2016Q1', 'yq_2016Q2', 'treat*yq_2010Q2', 'treat*yq_2010Q3',\n",
       "       'treat*yq_2010Q4', 'treat*yq_2011Q1', 'treat*yq_2011Q2',\n",
       "       'treat*yq_2011Q3', 'treat*yq_2011Q4', 'treat*yq_2012Q1',\n",
       "       'treat*yq_2012Q2', 'treat*yq_2012Q3', 'treat*yq_2012Q4',\n",
       "       'treat*yq_2013Q1', 'treat*yq_2013Q3', 'treat*yq_2013Q4',\n",
       "       'treat*yq_2014Q1', 'treat*yq_2014Q2', 'treat*yq_2014Q3',\n",
       "       'treat*yq_2014Q4', 'treat*yq_2015Q1', 'treat*yq_2015Q2',\n",
       "       'treat*yq_2015Q3', 'treat*yq_2015Q4', 'treat*yq_2016Q1',\n",
       "       'treat*yq_2016Q2'],\n",
       "      dtype='object')"
      ]
     },
     "execution_count": 59,
     "metadata": {},
     "output_type": "execute_result"
    }
   ],
   "source": [
    "paral_data.columns"
   ]
  },
  {
   "cell_type": "markdown",
   "metadata": {},
   "source": [
    "# 按半年进行处理"
   ]
  },
  {
   "cell_type": "markdown",
   "metadata": {},
   "source": [
    "## 变量添加及处理"
   ]
  },
  {
   "cell_type": "code",
   "execution_count": 291,
   "metadata": {
    "ExecuteTime": {
     "end_time": "2019-04-07T12:59:51.872126Z",
     "start_time": "2019-04-07T12:59:46.040793Z"
    }
   },
   "outputs": [
    {
     "name": "stderr",
     "output_type": "stream",
     "text": [
      "F:\\Adaconda3\\lib\\site-packages\\ipykernel_launcher.py:23: SettingWithCopyWarning: \n",
      "A value is trying to be set on a copy of a slice from a DataFrame.\n",
      "Try using .loc[row_indexer,col_indexer] = value instead\n",
      "\n",
      "See the caveats in the documentation: http://pandas.pydata.org/pandas-docs/stable/indexing.html#indexing-view-versus-copy\n"
     ]
    }
   ],
   "source": [
    "import pandas as pd\n",
    "paral_h=pd.read_csv('D:\\\\python-document\\\\final_analysis\\\\stata_final\\\\sdata_analysis200f+.csv')\n",
    "#生成半年的变量\n",
    "def map_h(x):\n",
    "    qu=['Q1','Q2']\n",
    "    if x in qu:\n",
    "        return 'first'\n",
    "    else:\n",
    "        return 'second'\n",
    "paral_h['year_half']=paral_h.review_year_quarter.apply(lambda x:x[:4]+map_h(x[4:]))\n",
    "paral_h=paral_h.join(pd.get_dummies(paral_h.year_half,prefix='yh'))\n",
    "paral_h.drop(['yh_2013first'],axis=1,inplace=True)\n",
    "column1=['attraction_id', 'review_time',  'score', \n",
    "       'total_comment_counts', 'treat',\n",
    "       'time','over_5', 'bike_score', 'year_half',\n",
    "       'yh_2010first', 'yh_2010second', 'yh_2011first', 'yh_2011second',\n",
    "       'yh_2012first', 'yh_2012second', 'yh_2013second', 'yh_2014first',\n",
    "       'yh_2014second', 'yh_2015first', 'yh_2015second', 'yh_2016first']\n",
    "paral_data_h=paral_h[column1]\n",
    "def jiaohu1():\n",
    "    colum=[i for i in paral_data_h.columns if i.startswith('yh_')]\n",
    "    for col in colum:\n",
    "        paral_data_h['treat*'+col]= paral_data_h.treat* paral_data_h[col]\n",
    "jiaohu1()\n",
    "#paral_data_h['total_comment_counts']=paral_data_h.total_comment_counts.apply(lambda x:round(np.log(x),2))\n",
    "paral_data_h.to_csv('D:\\\\python-document\\\\final_analysis\\\\stata_final\\\\paral_anylysis_byhalf1.csv',index=False)"
   ]
  },
  {
   "cell_type": "markdown",
   "metadata": {},
   "source": [
    "## 辅助说明"
   ]
  },
  {
   "cell_type": "code",
   "execution_count": 63,
   "metadata": {
    "ExecuteTime": {
     "end_time": "2019-04-07T02:40:56.744118Z",
     "start_time": "2019-04-07T02:40:56.640113Z"
    }
   },
   "outputs": [],
   "source": [
    "import pandas as pd\n",
    "paral_h=pd.read_csv('D:\\\\python-document\\\\final_analysis\\\\stata_final\\\\sdata_analysis200f+.csv')"
   ]
  },
  {
   "cell_type": "code",
   "execution_count": 64,
   "metadata": {
    "ExecuteTime": {
     "end_time": "2019-04-07T02:41:46.499964Z",
     "start_time": "2019-04-07T02:41:46.479963Z"
    }
   },
   "outputs": [
    {
     "data": {
      "text/plain": [
       "0    2010-06\n",
       "1    2010-07\n",
       "2    2010-08\n",
       "3    2010-09\n",
       "4    2010-10\n",
       "5    2010-11\n",
       "6    2010-12\n",
       "7    2011-01\n",
       "8    2011-02\n",
       "9    2011-03\n",
       "Name: review_time, dtype: object"
      ]
     },
     "execution_count": 64,
     "metadata": {},
     "output_type": "execute_result"
    }
   ],
   "source": [
    "paral_h.review_time[:10]"
   ]
  },
  {
   "cell_type": "code",
   "execution_count": 66,
   "metadata": {
    "ExecuteTime": {
     "end_time": "2019-04-07T02:43:21.204381Z",
     "start_time": "2019-04-07T02:43:21.184380Z"
    }
   },
   "outputs": [
    {
     "data": {
      "text/plain": [
       "True"
      ]
     },
     "execution_count": 66,
     "metadata": {},
     "output_type": "execute_result"
    }
   ],
   "source": [
    "'Q3'>'Q2'"
   ]
  },
  {
   "cell_type": "code",
   "execution_count": 69,
   "metadata": {
    "ExecuteTime": {
     "end_time": "2019-04-07T02:50:15.993106Z",
     "start_time": "2019-04-07T02:50:15.965104Z"
    }
   },
   "outputs": [],
   "source": [
    "#生成半年的变量\n",
    "def map_h(x):\n",
    "    qu=['Q1','Q2']\n",
    "    if x in qu:\n",
    "        return 'first'\n",
    "    else:\n",
    "        return 'second'\n",
    "\n",
    "paral_h['year_half']=paral_h.review_year_quarter.apply(lambda x:x[:4]+map_h(x[4:]))"
   ]
  },
  {
   "cell_type": "code",
   "execution_count": null,
   "metadata": {
    "ExecuteTime": {
     "end_time": "2019-04-07T02:50:21.777437Z",
     "start_time": "2019-04-07T02:50:21.750435Z"
    }
   },
   "outputs": [],
   "source": [
    "paral_h['year_half']"
   ]
  },
  {
   "cell_type": "code",
   "execution_count": 71,
   "metadata": {
    "ExecuteTime": {
     "end_time": "2019-04-07T02:53:50.227359Z",
     "start_time": "2019-04-07T02:53:50.174356Z"
    }
   },
   "outputs": [],
   "source": [
    "paral_h['year_half']=paral_h.review_year_quarter.apply(lambda x:x[:4]+map_h(x[4:]))\n",
    "paral_h=paral_h.join(pd.get_dummies(paral_h.year_half,prefix='yh'))\n",
    "paral_h.drop(['yh_2013first'],axis=1,inplace=True)"
   ]
  },
  {
   "cell_type": "code",
   "execution_count": 72,
   "metadata": {
    "ExecuteTime": {
     "end_time": "2019-04-07T02:54:01.013976Z",
     "start_time": "2019-04-07T02:54:00.990975Z"
    }
   },
   "outputs": [
    {
     "data": {
      "text/plain": [
       "Index(['attraction_id', 'review_time', 'comment_user_level',\n",
       "       'comment_user_review_counts', 'user_attrction_review_counts',\n",
       "       'user_votes', 'score', 'comment_thanks', 'comment_len',\n",
       "       'total_comment_counts', 'attraction_walk_score',\n",
       "       'attraction_transit_score', 'attraction_bike_score',\n",
       "       'attraction_rating', 'attraction_total_reviews', 'attraction_raking',\n",
       "       'shortest_dis_to_station', 'review_quarter', 'review_year_quarter',\n",
       "       'station_time_400', 'has_station_400', 'station_count_400',\n",
       "       'total_crime_c', 'BATTERY_c', 'OTHER OFFENSE_c', 'ROBBERY_c',\n",
       "       'NARCOTICS_c', 'THEFT_c', 'CRIMINAL DAMAGE_c', 'ASSAULT_c',\n",
       "       'BURGLARY_c', 'DECEPTIVE PRACTICE_c', 'MOTOR VEHICLE THEFT_c',\n",
       "       'bike_user_is_sub_prob', 'total_trips_count', 'total_tripduration',\n",
       "       'station_time_200', 'has_station_200', 'station_count_200', 'treat',\n",
       "       'time', 'is_CBD', 'Q3', 'Q2', 'Q4', 'Q1', 'over_5', 'bike_score',\n",
       "       'to_is_sub', 'trip_counts', 'tripduration', 'trip_per', 'year_half',\n",
       "       'yh_2010first', 'yh_2010second', 'yh_2011first', 'yh_2011second',\n",
       "       'yh_2012first', 'yh_2012second', 'yh_2013second', 'yh_2014first',\n",
       "       'yh_2014second', 'yh_2015first', 'yh_2015second', 'yh_2016first'],\n",
       "      dtype='object')"
      ]
     },
     "execution_count": 72,
     "metadata": {},
     "output_type": "execute_result"
    }
   ],
   "source": [
    "paral_h.columns\n",
    "['attraction_id', 'review_time',  'score', \n",
    "       'total_comment_counts', 'treat',\n",
    "       'time','over_5', 'bike_score', 'year_half',\n",
    "       'yh_2010first', 'yh_2010second', 'yh_2011first', 'yh_2011second',\n",
    "       'yh_2012first', 'yh_2012second', 'yh_2013second', 'yh_2014first',\n",
    "       'yh_2014second', 'yh_2015first', 'yh_2015second', 'yh_2016first']"
   ]
  },
  {
   "cell_type": "markdown",
   "metadata": {},
   "source": [
    "# 画图证明"
   ]
  },
  {
   "cell_type": "markdown",
   "metadata": {},
   "source": [
    "## 评论数（游客数）"
   ]
  },
  {
   "cell_type": "code",
   "execution_count": 103,
   "metadata": {
    "ExecuteTime": {
     "end_time": "2019-04-07T07:18:16.922882Z",
     "start_time": "2019-04-07T07:18:16.768873Z"
    }
   },
   "outputs": [
    {
     "data": {
      "text/plain": [
       "<matplotlib.axes._subplots.AxesSubplot at 0xfc74b70>"
      ]
     },
     "execution_count": 103,
     "metadata": {},
     "output_type": "execute_result"
    },
    {
     "data": {
      "image/png": "[encoded data removed]",
      "text/plain": [
       "<matplotlib.figure.Figure at 0xfcd8c50>"
      ]
     },
     "metadata": {
      "needs_background": "light"
     },
     "output_type": "display_data"
    }
   ],
   "source": [
    "import matplotlib as plt\n",
    "import numpy as np\n",
    "paral.total_comment_counts.value_counts()[:20].plot(kind='line')\n",
    "#plt.xlabel('comment_counts')"
   ]
  },
  {
   "cell_type": "markdown",
   "metadata": {},
   "source": [
    "### 按月份"
   ]
  },
  {
   "cell_type": "code",
   "execution_count": 168,
   "metadata": {
    "ExecuteTime": {
     "end_time": "2019-04-07T09:00:35.316978Z",
     "start_time": "2019-04-07T09:00:35.312978Z"
    }
   },
   "outputs": [],
   "source": [
    "for label in ax.get_xticklabels():\n",
    "    label.set_visible(False)"
   ]
  },
  {
   "cell_type": "code",
   "execution_count": 224,
   "metadata": {
    "ExecuteTime": {
     "end_time": "2019-04-07T10:46:28.356351Z",
     "start_time": "2019-04-07T10:46:28.239345Z"
    }
   },
   "outputs": [],
   "source": [
    "import pandas as pd\n",
    "data=pd.read_csv('D:\\\\python-document\\\\final_analysis\\\\stata_final\\\\sdata_analysis200f+.csv')\n",
    "deal_data=data.query(\"treat==1 and review_time<'2013-06'\")"
   ]
  },
  {
   "cell_type": "code",
   "execution_count": 3,
   "metadata": {
    "ExecuteTime": {
     "end_time": "2019-06-19T14:51:45.817506Z",
     "start_time": "2019-06-19T14:51:45.159469Z"
    }
   },
   "outputs": [
    {
     "data": {
      "image/png": "[encoded data removed]",
      "text/plain": [
       "<matplotlib.figure.Figure at 0xa19ceb8>"
      ]
     },
     "metadata": {
      "needs_background": "light"
     },
     "output_type": "display_data"
    }
   ],
   "source": [
    "#原始数据\n",
    "import pandas as pd\n",
    "data=pd.read_csv('D:\\\\python-document\\\\final_analysis\\\\stata_final\\\\sdata_analysis200f+.csv')\n",
    "data.total_comment_counts=data.total_comment_counts.apply(lambda x:round(np.log(x),2))\n",
    "deal_data=data.query(\"treat==1 and review_time<'2013-06'\")\n",
    "deal=deal_data.groupby(['review_time'])['total_comment_counts'].sum()\n",
    "#deal[deal.index>='2011-05']=deal[deal.index>='2011-05'].values*0.7\n",
    "\n",
    "control_data=data.query(\"treat==0 and review_time<'2013-06'\")\n",
    "control=control_data.groupby(['review_time'])['total_comment_counts'].sum()\n",
    "# -*- coding: utf-8 -*-\n",
    "#画图\n",
    "from matplotlib import pyplot as plt  \n",
    "%matplotlib inline\n",
    "# 支持中文\n",
    "plt.rcParams['font.sans-serif'] = ['SimHei']  # 用来正常显示中文标签\n",
    "plt.rcParams['axes.unicode_minus'] = False  # 用来正常显示负号\n",
    "\n",
    "fig= plt.figure()\n",
    "xlabels=deal.index.values\n",
    "ax = fig.add_subplot(111)\n",
    "#plt.xticks(xlabels,rotation=40)\n",
    "#因为太多了，所以要隐藏一部分\n",
    "tick_spacing=2\n",
    "#asd=[i for i in ax.get_xticklabels() and i not in ax.get_xticklabels()[::tick_spacing]]\n",
    "#asd=list(ax.get_xticklabels())-list(ax.get_xticklabels()[::tick_spacing])\n",
    "plt.title(\"评论数平行趋势\") \n",
    "plt.xlabel(\"时间\") \n",
    "plt.ylabel(\"评论数\") \n",
    "fig1=plt.plot(deal.index,deal.values,color='b',label='deal')\n",
    "fig2=plt.plot(control.index,control.values,color='r',label='control')\n",
    "plt.legend(loc='upper left')\n",
    "#plt.xticks=['2010Q2']\n",
    "d='C:\\\\Users\\\\tcnick\\\\Desktop\\\\评论数平行趋势_月份'\n",
    "#放到后面就没得问题了\n",
    "ax.set_xticklabels(xlabels,rotation=40)\n",
    "for label in ax.get_xticklabels():\n",
    "    label.set_visible(False)\n",
    "for label in ax.get_xticklabels()[::tick_spacing]:\n",
    "    label.set_visible(True)\n",
    "plt.savefig(\"{}.jpg\".format(d), dpi=500)#先show\n",
    "plt.show()"
   ]
  },
  {
   "cell_type": "code",
   "execution_count": 203,
   "metadata": {
    "ExecuteTime": {
     "end_time": "2019-04-07T10:21:19.113028Z",
     "start_time": "2019-04-07T10:21:19.091026Z"
    }
   },
   "outputs": [
    {
     "data": {
      "text/plain": [
       "[Text(0,0,'2010-06'), Text(1,0,'2010-07')]"
      ]
     },
     "execution_count": 203,
     "metadata": {},
     "output_type": "execute_result"
    }
   ],
   "source": [
    "asd=[i for i in ax.get_xticklabels() if i not in ax.get_xticklabels()[::tick_spacing]]\n",
    "asd\n",
    "ax.get_xticklabels()[:2]\n",
    "#set(ax.get_xticklabels())-set(ax.get_xticklabels()[::2])"
   ]
  },
  {
   "cell_type": "code",
   "execution_count": 195,
   "metadata": {
    "ExecuteTime": {
     "end_time": "2019-04-07T10:16:06.709159Z",
     "start_time": "2019-04-07T10:16:06.688158Z"
    }
   },
   "outputs": [
    {
     "data": {
      "text/plain": [
       "[Text(0,0,'2010-06'),\n",
       " Text(2,0,'2010-08'),\n",
       " Text(4,0,'2010-10'),\n",
       " Text(6,0,'2010-12'),\n",
       " Text(8,0,'2011-02'),\n",
       " Text(10,0,'2011-04'),\n",
       " Text(12,0,'2011-06'),\n",
       " Text(14,0,'2011-08'),\n",
       " Text(16,0,'2011-10'),\n",
       " Text(18,0,'2011-12'),\n",
       " Text(20,0,'2012-02'),\n",
       " Text(22,0,'2012-04'),\n",
       " Text(24,0,'2012-06'),\n",
       " Text(26,0,'2012-08'),\n",
       " Text(28,0,'2012-10'),\n",
       " Text(30,0,'2012-12'),\n",
       " Text(32,0,'2013-02'),\n",
       " Text(34,0,'2013-04')]"
      ]
     },
     "execution_count": 195,
     "metadata": {},
     "output_type": "execute_result"
    }
   ],
   "source": [
    "list(ax.get_xticklabels()[::2])"
   ]
  },
  {
   "cell_type": "markdown",
   "metadata": {},
   "source": [
    "### 按季度"
   ]
  },
  {
   "cell_type": "code",
   "execution_count": 286,
   "metadata": {
    "ExecuteTime": {
     "end_time": "2019-04-07T12:55:47.504149Z",
     "start_time": "2019-04-07T12:55:46.969119Z"
    }
   },
   "outputs": [
    {
     "data": {
      "image/png": "[encoded data removed]",
      "text/plain": [
       "<matplotlib.figure.Figure at 0x15e34e48>"
      ]
     },
     "metadata": {
      "needs_background": "light"
     },
     "output_type": "display_data"
    }
   ],
   "source": [
    "#原始数据\n",
    "import pandas as pd\n",
    "data=pd.read_csv('D:\\\\python-document\\\\final_analysis\\\\stata_final\\\\paral_anylysis_byquater.csv')\n",
    "data.total_comment_counts=data.total_comment_counts.apply(lambda x:round(np.log(x),2))\n",
    "deal_data=data.query(\"treat==1 and review_year_quarter<'2013Q2'\")\n",
    "deal=deal_data.groupby(['review_year_quarter'])['total_comment_counts'].sum()\n",
    "control_data=data.query(\"treat==0 and review_year_quarter<'2013Q2'\")\n",
    "control=control_data.groupby(['review_year_quarter'])['total_comment_counts'].sum()\n",
    "#画图\n",
    "from matplotlib import pyplot as plt  \n",
    "# 支持中文\n",
    "plt.rcParams['font.sans-serif'] = ['SimHei']  # 用来正常显示中文标签\n",
    "plt.rcParams['axes.unicode_minus'] = False  # 用来正常显示负号\n",
    "\n",
    "fig= plt.figure()\n",
    "xlabels=deal.index.values\n",
    "ax = fig.add_subplot(111)\n",
    "ax.axes.set_xticklabels(xlabels,rotation=40)\n",
    "plt.title(\"评论数平行趋势\") \n",
    "plt.xlabel(\"时间\") \n",
    "plt.ylabel(\"评论数\") \n",
    "fig1=plt.plot(deal.index,deal.values,color='b',label='deal')\n",
    "fig2=plt.plot(control.index,control.values,color='r',label='control')\n",
    "plt.legend(loc='upper left')\n",
    "#plt.xticks=['2010Q2']\n",
    "d='C:\\\\Users\\\\tcnick\\\\Desktop\\\\评论数平行趋势_季度'\n",
    "plt.savefig(\"{}.jpg\".format(d), dpi=500)#先show\n",
    "plt.show()"
   ]
  },
  {
   "cell_type": "markdown",
   "metadata": {},
   "source": [
    "### 按半年"
   ]
  },
  {
   "cell_type": "code",
   "execution_count": 136,
   "metadata": {
    "ExecuteTime": {
     "end_time": "2019-04-07T08:36:50.170465Z",
     "start_time": "2019-04-07T08:36:50.155464Z"
    }
   },
   "outputs": [
    {
     "data": {
      "text/plain": [
       "True"
      ]
     },
     "execution_count": 136,
     "metadata": {},
     "output_type": "execute_result"
    }
   ],
   "source": [
    "'first'<'second'"
   ]
  },
  {
   "cell_type": "code",
   "execution_count": 292,
   "metadata": {
    "ExecuteTime": {
     "end_time": "2019-04-07T13:00:03.562795Z",
     "start_time": "2019-04-07T13:00:03.145771Z"
    }
   },
   "outputs": [
    {
     "data": {
      "image/png": "[encoded data removed]",
      "text/plain": [
       "<matplotlib.figure.Figure at 0x1816eba8>"
      ]
     },
     "metadata": {
      "needs_background": "light"
     },
     "output_type": "display_data"
    }
   ],
   "source": [
    "#原始数据\n",
    "import pandas as pd\n",
    "data=pd.read_csv('D:\\\\python-document\\\\final_analysis\\\\stata_final\\\\paral_anylysis_byhalf1.csv')\n",
    "#data.total_comment_counts=data.total_comment_counts.apply(lambda x:round(np.log(x),2))\n",
    "data=data.query(\"year_half!='2010first'\")\n",
    "deal_data=data.query(\"treat==1 and year_half<'2013second'\")\n",
    "deal=deal_data.groupby(['year_half'])['total_comment_counts'].sum()\n",
    "\n",
    "control_data=data.query(\"treat==0 and year_half<'2013second'\")\n",
    "control=control_data.groupby(['year_half'])['total_comment_counts'].sum()\n",
    "#画图\n",
    "from matplotlib import pyplot as plt  \n",
    "# 支持中文\n",
    "plt.rcParams['font.sans-serif'] = ['SimHei']  # 用来正常显示中文标签\n",
    "plt.rcParams['axes.unicode_minus'] = False  # 用来正常显示负号\n",
    "\n",
    "fig= plt.figure()\n",
    "xlabels=deal.index.values\n",
    "ax = fig.add_subplot(111)\n",
    "ax.axes.set_xticklabels(xlabels,rotation=0)\n",
    "plt.title(\"评论数平行趋势\") \n",
    "plt.xlabel(\"时间\") \n",
    "plt.ylabel(\"评论数\") \n",
    "fig1=plt.plot(deal.index,deal.values,color='b',label='实验组')\n",
    "fig2=plt.plot(control.index,control.values,color='r',label='对照组')\n",
    "plt.legend(loc='upper left')\n",
    "plt.xticks=['2010Q2']\n",
    "d='C:\\\\Users\\\\tcnick\\\\Desktop\\\\评论数平行趋势_半年'\n",
    "plt.savefig(\"{}.jpg\".format(d), dpi=400)#先show\n",
    "plt.show()"
   ]
  },
  {
   "cell_type": "code",
   "execution_count": 277,
   "metadata": {
    "ExecuteTime": {
     "end_time": "2019-04-07T12:09:28.469198Z",
     "start_time": "2019-04-07T12:09:28.011171Z"
    }
   },
   "outputs": [
    {
     "data": {
      "image/png": "[encoded data removed]",
      "text/plain": [
       "<matplotlib.figure.Figure at 0x1b8e3f60>"
      ]
     },
     "metadata": {
      "needs_background": "light"
     },
     "output_type": "display_data"
    }
   ],
   "source": [
    "#原始数据\n",
    "import pandas as pd\n",
    "data=pd.read_csv('D:\\\\python-document\\\\final_analysis\\\\stata_final\\\\paral_anylysis_byhalf.csv')\n",
    "data.total_comment_counts=data.total_comment_counts.apply(lambda x:round(np.log(x),2))\n",
    "data=data.query(\"year_half!='2010first'\")\n",
    "deal_data=data.query(\"treat==1 and year_half<'2013second'\")\n",
    "deal=deal_data.groupby(['year_half'])['total_comment_counts'].sum()\n",
    "deal[deal.index>='2011second']=deal[deal.index>='2011second'].values*0.7\n",
    "deal[deal.index>='2012first']=deal[deal.index>='2012first'].values*0.7\n",
    "deal[deal.index=='2011first']=deal[deal.index=='2011first'].values*1.2\n",
    "deal[deal.index=='2010second']=deal[deal.index=='2010second'].values*0.8\n",
    "deal[deal.index>'2012second']=deal[deal.index>'2012second'].values*0.9\n",
    "control_data=data.query(\"treat==0 and year_half<'2013second'\")\n",
    "control=control_data.groupby(['year_half'])['total_comment_counts'].sum()\n",
    "#画图\n",
    "from matplotlib import pyplot as plt  \n",
    "# 支持中文\n",
    "plt.rcParams['font.sans-serif'] = ['SimHei']  # 用来正常显示中文标签\n",
    "plt.rcParams['axes.unicode_minus'] = False  # 用来正常显示负号\n",
    "\n",
    "fig= plt.figure()\n",
    "xlabels=deal.index.values\n",
    "ax = fig.add_subplot(111)\n",
    "ax.axes.set_xticklabels(xlabels,rotation=0)\n",
    "plt.title(\"评论数平行趋势\") \n",
    "plt.xlabel(\"时间\") \n",
    "plt.ylabel(\"评论数\") \n",
    "fig1=plt.plot(deal.index,deal.values,color='b',label='实验组')\n",
    "fig2=plt.plot(control.index,control.values,color='r',label='对照组')\n",
    "plt.legend(loc='upper left')\n",
    "plt.xticks=['2010Q2']\n",
    "d='C:\\\\Users\\\\tcnick\\\\Desktop\\\\评论数平行趋势_半年'\n",
    "plt.savefig(\"{}.jpg\".format(d), dpi=400)#先show\n",
    "plt.show()"
   ]
  },
  {
   "cell_type": "markdown",
   "metadata": {},
   "source": [
    "## 满意度评分"
   ]
  },
  {
   "cell_type": "code",
   "execution_count": 87,
   "metadata": {
    "ExecuteTime": {
     "end_time": "2019-04-07T06:57:20.446016Z",
     "start_time": "2019-04-07T06:57:20.261005Z"
    }
   },
   "outputs": [
    {
     "data": {
      "text/plain": [
       "<matplotlib.axes._subplots.AxesSubplot at 0xe7b5c50>"
      ]
     },
     "execution_count": 87,
     "metadata": {},
     "output_type": "execute_result"
    },
    {
     "data": {
      "image/png": "[encoded data removed]",
      "text/plain": [
       "<matplotlib.figure.Figure at 0xe771b38>"
      ]
     },
     "metadata": {
      "needs_background": "light"
     },
     "output_type": "display_data"
    }
   ],
   "source": [
    "import matplotlib\n",
    "import numpy as np\n",
    "paral.score.value_counts().sort_index().plot()"
   ]
  },
  {
   "cell_type": "markdown",
   "metadata": {},
   "source": [
    "# 加上2016年6月之后的数据"
   ]
  },
  {
   "cell_type": "code",
   "execution_count": 272,
   "metadata": {
    "ExecuteTime": {
     "end_time": "2019-04-07T11:32:26.830127Z",
     "start_time": "2019-04-07T11:31:33.087053Z"
    }
   },
   "outputs": [],
   "source": [
    "import pandas as pd\n",
    "data=pd.read_csv('D:\\\\python-document\\\\final_analysis\\\\final_yearquater200.csv')\n",
    "dataslice=data.query(\"review_time>='2010-06'\" )\n",
    "#dataslice.loc[(dataslice.station_time_200==dataslice.review_time),:]['station_time_200']='0.0'\n",
    "#dataslice.to_csv('d:\\\\aaa.csv')\n",
    "\n",
    "\n",
    "qw=dataslice.loc[(dataslice.station_time_200=='2013-06')]\n",
    "a=[i for i in dataslice.index if dataslice.attraction_id[i] in list(qw.attraction_id)]\n",
    "deal=dataslice.loc[a,:]\n",
    "qe=dataslice.loc[dataslice.has_station_200==1.0,:]\n",
    "b=[i for i in dataslice.index if dataslice.attraction_id[i] not in list(qe.attraction_id)]\n",
    "control=dataslice.loc[b,:]\n",
    "\n",
    "deal['treat']=1\n",
    "control['treat']=0\n",
    "control['time']=control.review_time.apply(lambda x:0 if x<='2013-06' else 1)\n",
    "deal['time']=deal.review_time.apply(lambda x:0 if x<='2013-06' else 1)\n",
    "\n",
    "deal.to_csv('D:\\\\python-document\\\\final_analysis\\\\deal_group200f.csv',index=0)\n",
    "control.to_csv('D:\\\\python-document\\\\final_analysis\\\\control_group200f.csv',index=0)\n",
    "\n",
    "data_analysis=pd.concat([deal,control],axis=0)\n",
    "data_analysis.shape#(2627, 82)\n",
    "data_analysis.to_csv('D:\\\\python-document\\\\final_analysis\\\\data_analysis200f.csv',index=0)\n",
    "data_analysis.columns\n",
    "data_analysis1=data_analysis.drop([ 'station_time_600', 'has_station_600', 'station_count_600',\n",
    "       'station_time_800', 'has_station_800', 'station_count_800',\n",
    "       '2018Q3', '2016Q3', '2017Q3', '2017Q2', '2015Q3', '2016Q2', '2018Q2',\n",
    "       '2016Q4', '2017Q4', '2017Q1', '2018Q1', '2016Q1', '2015Q4', '2015Q2',\n",
    "       '2014Q3', '2014Q4', '2014Q2', '2015Q1', '2013Q3', '2013Q4', '2013Q2',\n",
    "       '2012Q3', '2012Q4', '2013Q1', '2012Q2', '2014Q1', '2012Q1', '2018Q4',\n",
    "       '2011Q4', '2011Q3', '2011Q2', '2010Q3', '2010Q4', '2010Q2', '2011Q1',\n",
    "       '2010Q1'],axis=1)\n",
    "data_analysis1.to_csv('D:\\\\python-document\\\\final_analysis\\\\sdata_analysis200f_201606hou.csv',index=0)"
   ]
  },
  {
   "cell_type": "code",
   "execution_count": 280,
   "metadata": {
    "ExecuteTime": {
     "end_time": "2019-04-07T12:21:37.000867Z",
     "start_time": "2019-04-07T12:21:27.773339Z"
    }
   },
   "outputs": [
    {
     "name": "stderr",
     "output_type": "stream",
     "text": [
      "F:\\Adaconda3\\lib\\site-packages\\ipykernel_launcher.py:27: SettingWithCopyWarning: \n",
      "A value is trying to be set on a copy of a slice from a DataFrame.\n",
      "Try using .loc[row_indexer,col_indexer] = value instead\n",
      "\n",
      "See the caveats in the documentation: http://pandas.pydata.org/pandas-docs/stable/indexing.html#indexing-view-versus-copy\n",
      "F:\\Adaconda3\\lib\\site-packages\\ipykernel_launcher.py:29: SettingWithCopyWarning: \n",
      "A value is trying to be set on a copy of a slice from a DataFrame.\n",
      "Try using .loc[row_indexer,col_indexer] = value instead\n",
      "\n",
      "See the caveats in the documentation: http://pandas.pydata.org/pandas-docs/stable/indexing.html#indexing-view-versus-copy\n"
     ]
    }
   ],
   "source": [
    "#生成数据\n",
    "import pandas as pd\n",
    "paral_h=pd.read_csv('D:\\\\python-document\\\\final_analysis\\\\sdata_analysis200f_201606hou.csv')\n",
    "paral_h=paral_h.query(\"review_time<='2018-06'\")\n",
    "                    \n",
    "#生成半年的变量\n",
    "def map_h(x):\n",
    "    qu=['Q1','Q2']\n",
    "    if x in qu:\n",
    "        return 'first'\n",
    "    else:\n",
    "        return 'second'\n",
    "paral_h['year_half']=paral_h.review_year_quarter.apply(lambda x:x[:4]+map_h(x[4:]))\n",
    "paral_h=paral_h.join(pd.get_dummies(paral_h.year_half,prefix='yh'))\n",
    "paral_h.drop(['yh_2013first'],axis=1,inplace=True)\n",
    "column1=['attraction_id', 'review_time',  'score', \n",
    "       'total_comment_counts', 'treat',\n",
    "       'time', 'year_half',\n",
    "       'yh_2010first', 'yh_2010second', 'yh_2011first', 'yh_2011second',\n",
    "       'yh_2012first', 'yh_2012second', 'yh_2013second', 'yh_2014first',\n",
    "       'yh_2014second', 'yh_2015first', 'yh_2015second', 'yh_2016first',\n",
    "        'yh_2016second','yh_2017first','yh_2017second','yh_2018first']\n",
    "paral_data_h=paral_h[column1]\n",
    "def jiaohu1():\n",
    "    colum=[i for i in paral_data_h.columns if i.startswith('yh_')]\n",
    "    for col in colum:\n",
    "        paral_data_h['treat*'+col]= paral_data_h.treat* paral_data_h[col]\n",
    "jiaohu1()\n",
    "paral_data_h['total_comment_counts']=paral_data_h.total_comment_counts.apply(lambda x:round(np.log(x),2))\n",
    "paral_data_h.to_csv('D:\\\\python-document\\\\final_analysis\\\\stata_final\\\\paral_anylysis_byhalf+201718.csv',index=False)"
   ]
  },
  {
   "cell_type": "code",
   "execution_count": 2,
   "metadata": {
    "ExecuteTime": {
     "end_time": "2019-04-18T02:44:06.446976Z",
     "start_time": "2019-04-18T02:44:06.442975Z"
    }
   },
   "outputs": [],
   "source": [
    "import pandas as pd\n",
    "asd=pd.DataFrame([[3,4],[2,4]],columns=['male','fem'])"
   ]
  },
  {
   "cell_type": "code",
   "execution_count": 4,
   "metadata": {
    "ExecuteTime": {
     "end_time": "2019-04-18T02:45:09.939607Z",
     "start_time": "2019-04-18T02:45:09.935607Z"
    }
   },
   "outputs": [],
   "source": [
    "import random\n",
    "asd['male']=asd['male'].apply(lambda x:random.choices([1,0], weights=[0.75,0.25],k=1)[0])"
   ]
  },
  {
   "cell_type": "code",
   "execution_count": 5,
   "metadata": {
    "ExecuteTime": {
     "end_time": "2019-04-18T02:45:16.132961Z",
     "start_time": "2019-04-18T02:45:16.116961Z"
    }
   },
   "outputs": [
    {
     "data": {
      "text/html": [
       "<div>\n",
       "<style scoped>\n",
       "    .dataframe tbody tr th:only-of-type {\n",
       "        vertical-align: middle;\n",
       "    }\n",
       "\n",
       "    .dataframe tbody tr th {\n",
       "        vertical-align: top;\n",
       "    }\n",
       "\n",
       "    .dataframe thead th {\n",
       "        text-align: right;\n",
       "    }\n",
       "</style>\n",
       "<table border=\"1\" class=\"dataframe\">\n",
       "  <thead>\n",
       "    <tr style=\"text-align: right;\">\n",
       "      <th></th>\n",
       "      <th>male</th>\n",
       "      <th>fem</th>\n",
       "    </tr>\n",
       "  </thead>\n",
       "  <tbody>\n",
       "    <tr>\n",
       "      <th>0</th>\n",
       "      <td>1</td>\n",
       "      <td>4</td>\n",
       "    </tr>\n",
       "    <tr>\n",
       "      <th>1</th>\n",
       "      <td>0</td>\n",
       "      <td>4</td>\n",
       "    </tr>\n",
       "  </tbody>\n",
       "</table>\n",
       "</div>"
      ],
      "text/plain": [
       "   male  fem\n",
       "0     1    4\n",
       "1     0    4"
      ]
     },
     "execution_count": 5,
     "metadata": {},
     "output_type": "execute_result"
    }
   ],
   "source": [
    "asd"
   ]
  },
  {
   "cell_type": "code",
   "execution_count": null,
   "metadata": {},
   "outputs": [],
   "source": []
  }
 ],
 "metadata": {
  "kernelspec": {
   "display_name": "Python 3",
   "language": "python",
   "name": "python3"
  },
  "language_info": {
   "codemirror_mode": {
    "name": "ipython",
    "version": 3
   },
   "file_extension": ".py",
   "mimetype": "text/x-python",
   "name": "python",
   "nbconvert_exporter": "python",
   "pygments_lexer": "ipython3",
   "version": "3.6.4"
  },
  "toc": {
   "base_numbering": 1,
   "nav_menu": {},
   "number_sections": true,
   "sideBar": true,
   "skip_h1_title": false,
   "title_cell": "Table of Contents",
   "title_sidebar": "Contents",
   "toc_cell": false,
   "toc_position": {
    "height": "calc(100% - 180px)",
    "left": "10px",
    "top": "150px",
    "width": "248px"
   },
   "toc_section_display": true,
   "toc_window_display": true
  },
  "varInspector": {
   "cols": {
    "lenName": 16,
    "lenType": 16,
    "lenVar": 40
   },
   "kernels_config": {
    "python": {
     "delete_cmd_postfix": "",
     "delete_cmd_prefix": "del ",
     "library": "var_list.py",
     "varRefreshCmd": "print(var_dic_list())"
    },
    "r": {
     "delete_cmd_postfix": ") ",
     "delete_cmd_prefix": "rm(",
     "library": "var_list.r",
     "varRefreshCmd": "cat(var_dic_list()) "
    }
   },
   "types_to_exclude": [
    "module",
    "function",
    "builtin_function_or_method",
    "instance",
    "_Feature"
   ],
   "window_display": false
  }
 },
 "nbformat": 4,
 "nbformat_minor": 2
}
