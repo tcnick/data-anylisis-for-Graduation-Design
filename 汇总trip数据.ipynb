{
 "cells": [
  {
   "cell_type": "code",
   "execution_count": null,
   "metadata": {},
   "outputs": [],
   "source": [
    "import pandas as pd\n",
    "#读取文件名\n",
    "import os\n",
    "from dateutil.parser import parse\n",
    "def trans_time(f):\n",
    "    f1=f.apply(lambda x:parse(x))\n",
    "    f1=f1.apply(lambda x:str(x.year)+'-'+'{:02}'.format(x.month))\n",
    "    return f1\n",
    "filelist=os.listdir('D:\\\\python-document\\\\divvy_trips')\n",
    "a='D:\\\\python-document\\\\divvy_trips\\\\'\n",
    "aad=pd.read_csv('D:\\\\python-document\\\\tripad_attraction_station_(400,600,800).csv')\n",
    "dataq=aad[['attraction_id','review_time','recent_station']]\n",
    "huizongz=pd.DataFrame(columns=['attraction_id', 'review_time','is_sub', 'count_id','tripduration'])\n",
    "for item in filelist:\n",
    "    medi=pd.read_csv(a+item)\n",
    "    medi.columns=['trip_id', 'starttime', 'stoptime', 'bikeid', 'tripduration',\n",
    "       'from_station_id', 'from_station_name', 'to_station_id',\n",
    "       'to_station_name', 'usertype', 'gender', 'birthday']\n",
    "    medi['trip_time']=medi['stoptime']\n",
    "    medi['trip_time']=trans_time(medi['trip_time'])\n",
    "    medi['count_id']=1\n",
    "    medi['is_sub']=medi['usertype'].apply(lambda x:1 if x=='Subscriber' else 0)\n",
    "    medi_group=medi.groupby(['trip_time','to_station_id'])['is_sub','count_id','tripduration'].sum().reset_index()\n",
    "    medi_group1=pd.merge(medi_group,left_on=['trip_time','to_station_id'],right_on=['review_time','recent_station'],how='inner')\n",
    "    medix=medi_group1[['attraction_id', 'review_time','is_sub', 'count_id','tripduration']]\n",
    "    medix['is_sub']=medix['is_sub']/medix['count_id']\n",
    "    medix['is_sub']=medix['is_sub'].apply(lambda x:round(x,2))\n",
    "    huizongz=pd.concat([huizongz,medix],axis=0)\n",
    "    print(huizongz.shape)\n",
    "  "
   ]
  },
  {
   "cell_type": "code",
   "execution_count": null,
   "metadata": {},
   "outputs": [],
   "source": [
    "print(huizongz.shape)\n",
    "huizongza=huizongz.drop_duplicates(['attraction_id', 'review_time'])\n",
    "print(huizongza.shape)\n",
    "huizongza.to_csv('D:\\\\python-document\\\\trips_to_attraction_zhongjianjieguo.csv',index=0)\n",
    "huizongz.to_csv('D:\\\\python-document\\\\trips_to_attraction_zhongjianjieguo_quchongqian.csv',index=0)"
   ]
  },
  {
   "cell_type": "code",
   "execution_count": null,
   "metadata": {},
   "outputs": [],
   "source": [
    "huizongz.loc[huizongz.duplicated(['attraction_id', 'review_time']),:]"
   ]
  },
  {
   "cell_type": "code",
   "execution_count": null,
   "metadata": {},
   "outputs": [],
   "source": [
    "print(huizongz.shape)"
   ]
  },
  {
   "cell_type": "code",
   "execution_count": null,
   "metadata": {},
   "outputs": [],
   "source": [
    "aad=pd.read_csv('D:\\\\python-document\\\\tripad_attraction_station_(400,600,800)_divvy_trips_crime(09~).csv')\n",
    "aad=aad.drop(['is_sub','count_id','tripduration'],axis=1)\n",
    "#huizongz.drop_duplicates(['attraction_id', 'review_time'],inplace=True)\n",
    "divvyas=pd.merge(aad,huizongza,on=['attraction_id', 'review_time'],how='left')\n",
    "divvyas.to_csv('D:\\\\python-document\\\\tripad_attraction_station_(400,600,800)_divvy_trips_crime(09~)(1).csv',index=0)"
   ]
  },
  {
   "cell_type": "code",
   "execution_count": null,
   "metadata": {},
   "outputs": [],
   "source": [
    "divvyas=pd.merge(aad,huizongza,on=['attraction_id', 'review_time'],how='left')\n",
    "divvyas.to_csv('D:\\\\python-document\\\\tripad_attraction_station_(400,600,800)_divvy_trips.csv',index=0)"
   ]
  },
  {
   "cell_type": "code",
   "execution_count": null,
   "metadata": {},
   "outputs": [],
   "source": [
    "#一种计算经纬度距离的方法\n",
    "from math import radians, cos, sin, asin, sqrt\n",
    "\n",
    "#计算两点间距离-m\n",
    "def geodistance(lng1,lat1,lng2,lat2):\n",
    "    lng1, lat1, lng2, lat2 = map(radians, [lng1, lat1, lng2, lat2])\n",
    "    dlon=lng2-lng1\n",
    "    dlat=lat2-lat1\n",
    "    a=sin(dlat/2)**2 + cos(lat1) * cos(lat2) * sin(dlon/2)**2 \n",
    "    dis=2*asin(sqrt(a))*6371*1000\n",
    "    return dis"
   ]
  },
  {
   "cell_type": "code",
   "execution_count": null,
   "metadata": {},
   "outputs": [],
   "source": [
    "#开始加入犯罪数据了\n",
    "from dateutil.parser import parse\n",
    "import pandas as pd\n",
    "def trans_time(f):\n",
    "    f1=f.apply(lambda x:parse(x))\n",
    "    f1=f1.apply(lambda x:str(x.year)+'-'+'{:02}'.format(x.month))\n",
    "    return f1\n",
    "cridata=pd.read_csv('D:\\\\python-document\\\\control\\\\Crimes_-_2001_to_present.csv')"
   ]
  },
  {
   "cell_type": "code",
   "execution_count": null,
   "metadata": {},
   "outputs": [],
   "source": [
    "cridata1.shape"
   ]
  },
  {
   "cell_type": "code",
   "execution_count": null,
   "metadata": {},
   "outputs": [],
   "source": [
    "cridata1=cridata[['ID','Date','Primary Type','Latitude','Longitude', 'Location','Year']]\n",
    "cridata1['Year']=cridata1['Year'].apply(lambda x:str(x))\n",
    "cridata1=cridata1.query(\"Year>='2010' and Year<='2018'\")\n",
    "cridata1['Date']=trans_time(cridata1['Date'])#时间有点长"
   ]
  },
  {
   "cell_type": "code",
   "execution_count": null,
   "metadata": {},
   "outputs": [],
   "source": [
    "cridata2=cridata1\n",
    "attraction=pd.read_excel(u'F:\\\\研究生毕设数据\\\\divvybike data\\\\data.xlsx',sheet_name='all')\n",
    "attraction.dropna(subset=['latitude','longitude'],inplace=True)#去掉坐标为空的景点\n",
    "attraction.to_csv('D:\\\\python-document\\\\control\\\\attraction.csv',index=0)"
   ]
  },
  {
   "cell_type": "code",
   "execution_count": null,
   "metadata": {},
   "outputs": [],
   "source": [
    "ads=pd.read_csv('D:\\\\python-document\\\\tripad_attraction_station_(400,600,800)_divvy_trips.csv')\n",
    "ads1=ads[['attraction_id','review_time']]\n",
    "asa=[var for var in attraction['id'].values if var in ads['attraction_id'].values]"
   ]
  },
  {
   "cell_type": "code",
   "execution_count": null,
   "metadata": {},
   "outputs": [],
   "source": [
    "attraction['qqq']=attraction['id'].apply(lambda x:x in asa)"
   ]
  },
  {
   "cell_type": "code",
   "execution_count": null,
   "metadata": {},
   "outputs": [],
   "source": [
    "attraction=attraction.loc[attraction['qqq'].values,:]\n"
   ]
  },
  {
   "cell_type": "code",
   "execution_count": null,
   "metadata": {},
   "outputs": [],
   "source": [
    "attraction.to_csv('D:\\\\python-document\\\\control\\\\attraction.csv',index=0)"
   ]
  },
  {
   "cell_type": "code",
   "execution_count": null,
   "metadata": {},
   "outputs": [],
   "source": [
    "for x,y,z in zip(attraction['latitude'].values,attraction['longitude'].values,attraction['id'].values):\n",
    "    print((x,y,z))"
   ]
  },
  {
   "cell_type": "code",
   "execution_count": null,
   "metadata": {},
   "outputs": [],
   "source": [
    "cridata2.dropna(subset=['Latitude'],inplace=True)"
   ]
  },
  {
   "cell_type": "code",
   "execution_count": null,
   "metadata": {},
   "outputs": [],
   "source": [
    "cridata2.shape"
   ]
  },
  {
   "cell_type": "code",
   "execution_count": null,
   "metadata": {},
   "outputs": [],
   "source": [
    "len(final)"
   ]
  },
  {
   "cell_type": "code",
   "execution_count": null,
   "metadata": {},
   "outputs": [],
   "source": [
    "final"
   ]
  },
  {
   "cell_type": "code",
   "execution_count": null,
   "metadata": {},
   "outputs": [],
   "source": [
    "final1=pd.DataFrame(final,columns=['recent_attraction','shortest_dis_crime_att'])\n",
    "cridata2=pd.concat([cridata2,final1],axis=1)\n",
    "cridata2['shortest_dis_crime_att']=cridata2['shortest_dis_crime_att'].apply(lambda x:round(float(x),0))\n",
    "cridata2.to_csv('D:\\\\python-document\\\\control\\\\attraction_crime_zhongjianjieguo.csv',index=0)"
   ]
  },
  {
   "cell_type": "code",
   "execution_count": null,
   "metadata": {},
   "outputs": [],
   "source": [
    "sad=pd.read_csv('D:\\\\python-document\\\\control\\\\tripad_attraction_station_(400,600,800)_divvy_trips.csv')\n",
    "sad1=pd.merge(sad,cridata2,left_on=['attraction_id','review_time'],right_on=['recent_attraction','Date'],how='left')\n",
    "sad1.to_csv('D:\\\\python-document\\\\control\\\\trip_attra_sta(400,600,800)_divvy_trips_crime.csv',index=0)"
   ]
  },
  {
   "cell_type": "code",
   "execution_count": null,
   "metadata": {},
   "outputs": [],
   "source": [
    "cridata.head(20)"
   ]
  },
  {
   "cell_type": "code",
   "execution_count": null,
   "metadata": {},
   "outputs": [],
   "source": [
    "#太慢了，不这样做了\n",
    "import pandas as pd\n",
    "community=pd.read_csv('D:\\\\python-document\\\\control\\\\CommAreas.csv')"
   ]
  },
  {
   "cell_type": "code",
   "execution_count": null,
   "metadata": {},
   "outputs": [],
   "source": [
    "import re\n",
    "community.the_geom1=community.the_geom.apply(lambda x: x[12:])\n",
    "community.the_geom2=community.the_geom1.apply(lambda x:x.strip().strip('()'))"
   ]
  },
  {
   "cell_type": "code",
   "execution_count": null,
   "metadata": {},
   "outputs": [],
   "source": [
    "a='ads.aad.asa'\n",
    "list(a.split('.'))"
   ]
  },
  {
   "cell_type": "code",
   "execution_count": null,
   "metadata": {},
   "outputs": [],
   "source": [
    "community.the_geom2=community.the_geom2.apply(lambda x:list(x.split(',')))"
   ]
  },
  {
   "cell_type": "code",
   "execution_count": null,
   "metadata": {},
   "outputs": [],
   "source": [
    "community.the_geom2[1]"
   ]
  },
  {
   "cell_type": "code",
   "execution_count": null,
   "metadata": {},
   "outputs": [],
   "source": [
    "#community.the_geom2=community.the_geom2.apply(lambda x:(mean(i.split(' ')[1]),mean(i.split(' ')[0])) for i in x)"
   ]
  },
  {
   "cell_type": "code",
   "execution_count": null,
   "metadata": {},
   "outputs": [],
   "source": [
    "import numpy as np\n",
    "#a=np.narray(community.the_geom2[3])\n",
    "for i in range(len(community.the_geom2[3])):\n",
    "    community.the_geom2[3][i]=community.the_geom2[3][i].strip().split(' ')\n",
    "community.the_geom2[3]"
   ]
  },
  {
   "cell_type": "code",
   "execution_count": null,
   "metadata": {},
   "outputs": [],
   "source": [
    "community.the_geom2[3].index"
   ]
  },
  {
   "cell_type": "code",
   "execution_count": null,
   "metadata": {},
   "outputs": [],
   "source": [
    "community.the_geom2[3][i].split(' ')"
   ]
  },
  {
   "cell_type": "code",
   "execution_count": null,
   "metadata": {},
   "outputs": [],
   "source": [
    "for item in community.the_geom2:\n",
    "    for j in item:\n",
    "        a=j.split\n",
    "        \n",
    "    "
   ]
  },
  {
   "cell_type": "code",
   "execution_count": null,
   "metadata": {},
   "outputs": [],
   "source": [
    "#太慢了，不这样做了\n",
    "import pandas as pd\n",
    "community=pd.read_csv('D:\\\\python-document\\\\control\\\\CommAreas.csv')\n",
    "community.the_geom1=community.the_geom.apply(lambda x: x[12:])\n",
    "community.the_geom2=community.the_geom1.apply(lambda x:x.strip().strip('()'))\n",
    "community.the_geom2=community.the_geom2.apply(lambda x:list(x.split(',')))\n",
    "\n",
    "import numpy as np\n",
    "finalz=[]\n",
    "for i in community.index:\n",
    "    a=community.the_geom2[i]\n",
    "    for j in range(len(a)):\n",
    "        a[j]=a[j].strip().split(' ')\n",
    "    ab=np.array(a,dtype='float')\n",
    "    q=ab.mean(axis=0)\n",
    "    finalz.append(list(q))\n",
    "  \n"
   ]
  },
  {
   "cell_type": "code",
   "execution_count": null,
   "metadata": {},
   "outputs": [],
   "source": [
    "#太慢了，不这样做了\n",
    "import pandas as pd\n",
    "community=pd.read_csv('D:\\\\python-document\\\\control\\\\CommAreas.csv')\n",
    "community.the_geom1=community.the_geom.apply(lambda x: x[12:])\n",
    "community.the_geom2=community.the_geom1.apply(lambda x:x.strip().strip('()'))\n",
    "community.the_geom2=community.the_geom2.apply(lambda x:list(x.split(',')))"
   ]
  },
  {
   "cell_type": "code",
   "execution_count": null,
   "metadata": {},
   "outputs": [],
   "source": [
    "import numpy as np\n",
    "finalz=[]\n",
    "for i in community.index:\n",
    "    a=[]\n",
    "    a=community.the_geom2[i]\n",
    "    for j in range(len(a)):\n",
    "        a[j]=a[j].strip().strip('()').split(' ')\n",
    "        a[j][0].strip('()')\n",
    "        a[j][1].strip('()')\n",
    "    ab=np.array(a,dtype='float')\n",
    "    q=ab.mean(axis=0)\n",
    "    finalz.append(list(q))"
   ]
  },
  {
   "cell_type": "code",
   "execution_count": null,
   "metadata": {},
   "outputs": [],
   "source": [
    "finalz=pd.DataFrame(finalz,columns=['longitude','latitude'])"
   ]
  },
  {
   "cell_type": "code",
   "execution_count": null,
   "metadata": {},
   "outputs": [],
   "source": [
    "finalza=pd.concat([community,finalz],axis=1)"
   ]
  },
  {
   "cell_type": "code",
   "execution_count": null,
   "metadata": {},
   "outputs": [],
   "source": [
    "finalza=finalza[['AREA_NUMBE','longitude','latitude']]\n",
    "finalza.to_csv('D:\\\\python-document\\\\CommAreas.csv')"
   ]
  },
  {
   "cell_type": "code",
   "execution_count": null,
   "metadata": {},
   "outputs": [],
   "source": [
    "community.columns"
   ]
  },
  {
   "cell_type": "code",
   "execution_count": null,
   "metadata": {},
   "outputs": [],
   "source": [
    "from dateutil.parser import parse\n",
    "import pandas as pd\n",
    "def trans_time(f):\n",
    "    f1=f.apply(lambda x:parse(x))\n",
    "    f1=f1.apply(lambda x:str(x.year)+'-'+'{:02}'.format(x.month))\n",
    "    return f1\n",
    "cridata=pd.read_csv('D:\\\\python-document\\\\control\\\\Crimes_-_2001_to_present.csv')\n",
    "\n",
    "cridata1=cridata[['ID','Date','Primary Type','Latitude','Longitude', 'Location','Year','Community Area']]\n",
    "cridata1['Year']=cridata1['Year'].apply(lambda x:str(x))\n",
    "cridata1=cridata1.query(\"Year>='2010' and Year<='2018'\")\n",
    "cridata1['Date']=trans_time(cridata1['Date'])#时间有点长"
   ]
  },
  {
   "cell_type": "code",
   "execution_count": null,
   "metadata": {},
   "outputs": [],
   "source": [
    "cridata1.to_csv('D:\\\\python-document\\\\control\\\\Crimes_-_2001_to_present_zhoongjian.csv',index=0)"
   ]
  },
  {
   "cell_type": "code",
   "execution_count": null,
   "metadata": {},
   "outputs": [],
   "source": [
    "#根据犯罪类型来处理\n",
    "cridata1['total_crime_c']=1\n",
    "for i in list(cridata1['Primary Type'].value_counts().index)[:10]:\n",
    "    cridata1[i+'_c']=cridata1['Primary Type'].apply(lambda x:1 if x==i else 0)\n"
   ]
  },
  {
   "cell_type": "code",
   "execution_count": null,
   "metadata": {},
   "outputs": [],
   "source": [
    "cridata1.columns"
   ]
  },
  {
   "cell_type": "code",
   "execution_count": null,
   "metadata": {},
   "outputs": [],
   "source": [
    "cridata2=cridata1.groupby(['Date','Community Area'])['total_crime_c', 'BATTERY_c',\n",
    "       'OTHER OFFENSE_c', 'ROBBERY_c', 'NARCOTICS_c', 'THEFT_c',\n",
    "       'CRIMINAL DAMAGE_c', 'ASSAULT_c', 'BURGLARY_c', 'DECEPTIVE PRACTICE_c',\n",
    "       'MOTOR VEHICLE THEFT_c'].sum() .reset_index()"
   ]
  },
  {
   "cell_type": "code",
   "execution_count": null,
   "metadata": {},
   "outputs": [],
   "source": [
    "cridata2.to_csv('D:\\\\python-document\\\\control\\\\cridata_youqu.csv',index=0)"
   ]
  },
  {
   "cell_type": "code",
   "execution_count": null,
   "metadata": {},
   "outputs": [],
   "source": [
    "attraction=pd.read_csv('D:\\\\python-document\\\\control\\\\attraction.csv')\n",
    "#社区：finalz\n",
    "from geopy.distance import geodesic\n",
    "final=[]\n",
    "for i in attraction.index: \n",
    "#    print(trip_attraction.loc[i].values[2])\n",
    "    distance={}\n",
    "    a=attraction['latitude'][i]\n",
    "    b=attraction['longitude'][i]\n",
    "    for x,y,z in zip(finalza['latitude'].values,finalza['longitude'].values,finalza['AREA_NUMBE'].values):\n",
    "        dis=geodesic((a,b),(x,y)).m\n",
    "        distance[z]=dis\n",
    "    final.append(min(distance.items(), key=lambda x: x[1]))\n",
    "print(len(final))"
   ]
  },
  {
   "cell_type": "code",
   "execution_count": null,
   "metadata": {},
   "outputs": [],
   "source": [
    "finala=pd.DataFrame(final,columns=['community_number','distance_attr_commu'])\n",
    "attraction=pd.concat([attraction,finala],axis=1)"
   ]
  },
  {
   "cell_type": "code",
   "execution_count": null,
   "metadata": {},
   "outputs": [],
   "source": [
    "attraction.to_csv('D:\\\\python-document\\\\control\\\\attraction.csv',index=0)"
   ]
  },
  {
   "cell_type": "code",
   "execution_count": null,
   "metadata": {},
   "outputs": [],
   "source": [
    "cridata_attra=pd.merge(cridata2,attraction,left_on='Community Area',right_on='community_number',how='inner')"
   ]
  },
  {
   "cell_type": "code",
   "execution_count": null,
   "metadata": {},
   "outputs": [],
   "source": [
    "cridata_attra=cridata_attra.loc[:,['Date','community_number','total_crime_c',\n",
    "                                   'BATTERY_c', 'OTHER OFFENSE_c', 'ROBBERY_c', 'NARCOTICS_c',\n",
    "                                   'THEFT_c','CRIMINAL DAMAGE_c', 'ASSAULT_c', 'BURGLARY_c', \n",
    "                                   'DECEPTIVE PRACTICE_c','MOTOR VEHICLE THEFT_c', 'id']]\n",
    "cridata_attra.columns"
   ]
  },
  {
   "cell_type": "code",
   "execution_count": null,
   "metadata": {},
   "outputs": [],
   "source": [
    "zhiqian=pd.read_csv('D:\\\\python-document\\\\tripad_attraction_station_(400,600,800)_divvy_trips.csv')\n",
    "zhiqian=pd.merge(zhiqian,cridata_attra,left_on=['attraction_id','review_time'],\n",
    "                 right_on=[ 'id','Date'],how='left')"
   ]
  },
  {
   "cell_type": "code",
   "execution_count": null,
   "metadata": {},
   "outputs": [],
   "source": [
    "zhiqian1=zhiqian.query(\"review_time>'2009-12'\")\n",
    "zhiqian1.to_csv('D:\\\\python-document\\\\tripad_attraction_station_(400,600,800)_divvy_trips_crime(09~).csv',index=0)"
   ]
  },
  {
   "cell_type": "code",
   "execution_count": null,
   "metadata": {},
   "outputs": [],
   "source": [
    "#处理红灯以及其他交通违规，交通拥挤数据\n"
   ]
  }
 ],
 "metadata": {
  "kernelspec": {
   "display_name": "Python 3",
   "language": "python",
   "name": "python3"
  },
  "language_info": {
   "codemirror_mode": {
    "name": "ipython",
    "version": 3
   },
   "file_extension": ".py",
   "mimetype": "text/x-python",
   "name": "python",
   "nbconvert_exporter": "python",
   "pygments_lexer": "ipython3",
   "version": "3.6.4"
  },
  "toc": {
   "base_numbering": 1,
   "nav_menu": {},
   "number_sections": true,
   "sideBar": true,
   "skip_h1_title": false,
   "title_cell": "Table of Contents",
   "title_sidebar": "Contents",
   "toc_cell": false,
   "toc_position": {},
   "toc_section_display": true,
   "toc_window_display": false
  },
  "varInspector": {
   "cols": {
    "lenName": 16,
    "lenType": 16,
    "lenVar": 40
   },
   "kernels_config": {
    "python": {
     "delete_cmd_postfix": "",
     "delete_cmd_prefix": "del ",
     "library": "var_list.py",
     "varRefreshCmd": "print(var_dic_list())"
    },
    "r": {
     "delete_cmd_postfix": ") ",
     "delete_cmd_prefix": "rm(",
     "library": "var_list.r",
     "varRefreshCmd": "cat(var_dic_list()) "
    }
   },
   "types_to_exclude": [
    "module",
    "function",
    "builtin_function_or_method",
    "instance",
    "_Feature"
   ],
   "window_display": false
  }
 },
 "nbformat": 4,
 "nbformat_minor": 2
}
